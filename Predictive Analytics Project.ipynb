{
 "cells": [
  {
   "cell_type": "markdown",
   "id": "a6531cc3",
   "metadata": {},
   "source": [
    "##  Predictive Analytics Project"
   ]
  },
  {
   "cell_type": "markdown",
   "id": "6f2e28c8",
   "metadata": {},
   "source": [
    "Yahoo Finance API"
   ]
  },
  {
   "cell_type": "code",
   "execution_count": 3,
   "id": "94952ad0",
   "metadata": {},
   "outputs": [],
   "source": [
    "# pip install yfinance"
   ]
  },
  {
   "cell_type": "code",
   "execution_count": 2,
   "id": "06c6670c",
   "metadata": {},
   "outputs": [
    {
     "name": "stdout",
     "output_type": "stream",
     "text": [
      "                                 Open        High         Low       Close  \\\n",
      "Date                                                                        \n",
      "2022-01-03 00:00:00-05:00  176.052746  181.052279  175.933951  180.190964   \n",
      "2022-01-04 00:00:00-05:00  180.804793  181.111693  177.329863  177.904068   \n",
      "2022-01-05 00:00:00-05:00  177.814959  178.369360  172.894629  173.171829   \n",
      "2022-01-06 00:00:00-05:00  170.974038  173.548059  169.924634  170.281036   \n",
      "2022-01-07 00:00:00-05:00  171.162116  172.399623  169.320704  170.449310   \n",
      "...                               ...         ...         ...         ...   \n",
      "2023-09-25 00:00:00-04:00  174.199997  176.970001  174.149994  176.080002   \n",
      "2023-09-26 00:00:00-04:00  174.820007  175.199997  171.660004  171.960007   \n",
      "2023-09-27 00:00:00-04:00  172.619995  173.039993  169.050003  170.429993   \n",
      "2023-09-28 00:00:00-04:00  169.339996  172.029999  167.619995  170.690002   \n",
      "2023-09-29 00:00:00-04:00  172.020004  173.070007  170.339996  171.210007   \n",
      "\n",
      "                              Volume  Dividends  Stock Splits  \n",
      "Date                                                           \n",
      "2022-01-03 00:00:00-05:00  104487900        0.0           0.0  \n",
      "2022-01-04 00:00:00-05:00   99310400        0.0           0.0  \n",
      "2022-01-05 00:00:00-05:00   94537600        0.0           0.0  \n",
      "2022-01-06 00:00:00-05:00   96904000        0.0           0.0  \n",
      "2022-01-07 00:00:00-05:00   86709100        0.0           0.0  \n",
      "...                              ...        ...           ...  \n",
      "2023-09-25 00:00:00-04:00   46172700        0.0           0.0  \n",
      "2023-09-26 00:00:00-04:00   64588900        0.0           0.0  \n",
      "2023-09-27 00:00:00-04:00   66921800        0.0           0.0  \n",
      "2023-09-28 00:00:00-04:00   56294400        0.0           0.0  \n",
      "2023-09-29 00:00:00-04:00   51814200        0.0           0.0  \n",
      "\n",
      "[438 rows x 7 columns]\n"
     ]
    }
   ],
   "source": [
    "# Importing necessary library\n",
    "import yfinance as yf\n",
    "\n",
    "# Define the ticker symbol\n",
    "tickerSymbol = 'AAPL'\n",
    "\n",
    "# Get data on this ticker\n",
    "tickerData = yf.Ticker(tickerSymbol)\n",
    "\n",
    "# Get the historical prices for this ticker\n",
    "tickerDf = tickerData.history(period='1d', start='2022-01-01', end='2023-10-01')\n",
    "\n",
    "# See your data\n",
    "print(tickerDf)"
   ]
  },
  {
   "cell_type": "markdown",
   "id": "cee3d13c",
   "metadata": {},
   "source": [
    "###### Alpha Vantage API:"
   ]
  },
  {
   "cell_type": "code",
   "execution_count": 3,
   "id": "0e1c6e00",
   "metadata": {},
   "outputs": [],
   "source": [
    "# # Importing necessary library\n",
    "# import requests\n",
    "\n",
    "# # Define the API key and endpoint\n",
    "# api_key = 'your_api_key_here'\n",
    "# symbol = 'AAPL'\n",
    "# base_url = f'https://www.alphavantage.co/query?function=TIME_SERIES_DAILY&symbol={symbol}&apikey={api_key}'\n",
    "\n",
    "# # Make the API call\n",
    "# response = requests.get(base_url)\n",
    "# data = response.json()\n",
    "\n",
    "# # See your data\n",
    "# print(data)"
   ]
  },
  {
   "cell_type": "code",
   "execution_count": 6,
   "id": "8f7fb3c2",
   "metadata": {},
   "outputs": [
    {
     "data": {
      "text/html": [
       "<div>\n",
       "<style scoped>\n",
       "    .dataframe tbody tr th:only-of-type {\n",
       "        vertical-align: middle;\n",
       "    }\n",
       "\n",
       "    .dataframe tbody tr th {\n",
       "        vertical-align: top;\n",
       "    }\n",
       "\n",
       "    .dataframe thead th {\n",
       "        text-align: right;\n",
       "    }\n",
       "</style>\n",
       "<table border=\"1\" class=\"dataframe\">\n",
       "  <thead>\n",
       "    <tr style=\"text-align: right;\">\n",
       "      <th></th>\n",
       "      <th>Open</th>\n",
       "      <th>High</th>\n",
       "      <th>Low</th>\n",
       "      <th>Close</th>\n",
       "      <th>Volume</th>\n",
       "      <th>Dividends</th>\n",
       "      <th>Stock Splits</th>\n",
       "    </tr>\n",
       "    <tr>\n",
       "      <th>Date</th>\n",
       "      <th></th>\n",
       "      <th></th>\n",
       "      <th></th>\n",
       "      <th></th>\n",
       "      <th></th>\n",
       "      <th></th>\n",
       "      <th></th>\n",
       "    </tr>\n",
       "  </thead>\n",
       "  <tbody>\n",
       "    <tr>\n",
       "      <th>2023-01-20 00:00:00-05:00</th>\n",
       "      <td>134.705278</td>\n",
       "      <td>137.433643</td>\n",
       "      <td>133.649784</td>\n",
       "      <td>137.284271</td>\n",
       "      <td>80223600</td>\n",
       "      <td>0.0</td>\n",
       "      <td>0.0</td>\n",
       "    </tr>\n",
       "    <tr>\n",
       "      <th>2023-08-29 00:00:00-04:00</th>\n",
       "      <td>179.699997</td>\n",
       "      <td>184.899994</td>\n",
       "      <td>179.500000</td>\n",
       "      <td>184.119995</td>\n",
       "      <td>53003900</td>\n",
       "      <td>0.0</td>\n",
       "      <td>0.0</td>\n",
       "    </tr>\n",
       "    <tr>\n",
       "      <th>2022-09-21 00:00:00-04:00</th>\n",
       "      <td>156.412108</td>\n",
       "      <td>157.803861</td>\n",
       "      <td>152.694174</td>\n",
       "      <td>152.813461</td>\n",
       "      <td>101696800</td>\n",
       "      <td>0.0</td>\n",
       "      <td>0.0</td>\n",
       "    </tr>\n",
       "  </tbody>\n",
       "</table>\n",
       "</div>"
      ],
      "text/plain": [
       "                                 Open        High         Low       Close  \\\n",
       "Date                                                                        \n",
       "2023-01-20 00:00:00-05:00  134.705278  137.433643  133.649784  137.284271   \n",
       "2023-08-29 00:00:00-04:00  179.699997  184.899994  179.500000  184.119995   \n",
       "2022-09-21 00:00:00-04:00  156.412108  157.803861  152.694174  152.813461   \n",
       "\n",
       "                              Volume  Dividends  Stock Splits  \n",
       "Date                                                           \n",
       "2023-01-20 00:00:00-05:00   80223600        0.0           0.0  \n",
       "2023-08-29 00:00:00-04:00   53003900        0.0           0.0  \n",
       "2022-09-21 00:00:00-04:00  101696800        0.0           0.0  "
      ]
     },
     "execution_count": 6,
     "metadata": {},
     "output_type": "execute_result"
    }
   ],
   "source": [
    "tickerDf.sample(3)"
   ]
  },
  {
   "cell_type": "code",
   "execution_count": null,
   "id": "19b9948f",
   "metadata": {},
   "outputs": [],
   "source": []
  }
 ],
 "metadata": {
  "kernelspec": {
   "display_name": "Python 3 (ipykernel)",
   "language": "python",
   "name": "python3"
  },
  "language_info": {
   "codemirror_mode": {
    "name": "ipython",
    "version": 3
   },
   "file_extension": ".py",
   "mimetype": "text/x-python",
   "name": "python",
   "nbconvert_exporter": "python",
   "pygments_lexer": "ipython3",
   "version": "3.11.4"
  }
 },
 "nbformat": 4,
 "nbformat_minor": 5
}
